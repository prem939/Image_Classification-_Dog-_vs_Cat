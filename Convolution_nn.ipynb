{
 "cells": [
  {
   "cell_type": "code",
   "execution_count": 2,
   "metadata": {},
   "outputs": [],
   "source": [
    "import tensorflow as tf\n",
    "from keras.preprocessing.image import ImageDataGenerator"
   ]
  },
  {
   "cell_type": "code",
   "execution_count": 3,
   "metadata": {},
   "outputs": [
    {
     "name": "stdout",
     "output_type": "stream",
     "text": [
      "Found 8000 images belonging to 2 classes.\n"
     ]
    }
   ],
   "source": [
    "# Data Preprocessing\n",
    "train_datagen = ImageDataGenerator(rescale = 1./255,\n",
    "                                   shear_range = 0.2,\n",
    "                                   zoom_range = 0.2,\n",
    "                                   horizontal_flip = True)\n",
    "# training  Data Preprocessing\n",
    "training_set = train_datagen.flow_from_directory('data/training_set',\n",
    "                                                 target_size = (64, 64),\n",
    "                                                 batch_size = 32,\n",
    "                                                 class_mode = 'binary')"
   ]
  },
  {
   "cell_type": "code",
   "execution_count": 4,
   "metadata": {},
   "outputs": [
    {
     "name": "stdout",
     "output_type": "stream",
     "text": [
      "Found 2000 images belonging to 2 classes.\n"
     ]
    }
   ],
   "source": [
    "# test set data Preprocessing \n",
    "test_datagen = ImageDataGenerator(rescale = 1./255) #we dont want to change any image just we have to rescale \n",
    "test_set = test_datagen.flow_from_directory('data/test_set',\n",
    "                                           target_size = (64,64),\n",
    "                                           batch_size = 32,\n",
    "                                           class_mode = 'binary')"
   ]
  },
  {
   "cell_type": "markdown",
   "metadata": {},
   "source": [
    "# Building the CNN"
   ]
  },
  {
   "cell_type": "code",
   "execution_count": 5,
   "metadata": {},
   "outputs": [],
   "source": [
    "cnn = tf.keras.models.Sequential()"
   ]
  },
  {
   "cell_type": "code",
   "execution_count": 6,
   "metadata": {},
   "outputs": [
    {
     "name": "stdout",
     "output_type": "stream",
     "text": [
      "WARNING:tensorflow:From C:\\Users\\Hari Krishna S\\anaconda3\\lib\\site-packages\\tensorflow\\python\\ops\\resource_variable_ops.py:435: colocate_with (from tensorflow.python.framework.ops) is deprecated and will be removed in a future version.\n",
      "Instructions for updating:\n",
      "Colocations handled automatically by placer.\n"
     ]
    }
   ],
   "source": [
    "# adding the layers\n",
    "# input Layers\n",
    "cnn.add(tf.keras.layers.Conv2D(filters = 32, kernel_size = 3, activation = 'relu', input_shape = [64, 64, 3]))"
   ]
  },
  {
   "cell_type": "code",
   "execution_count": 7,
   "metadata": {},
   "outputs": [],
   "source": [
    "# Pooling\n",
    "cnn.add(tf.keras.layers.MaxPool2D(pool_size = 2, strides = 2))"
   ]
  },
  {
   "cell_type": "code",
   "execution_count": 8,
   "metadata": {},
   "outputs": [],
   "source": [
    "# adding second convolution layer\n",
    "cnn.add(tf.keras.layers.Conv2D(filters = 32, kernel_size = 3, activation = 'relu'))\n",
    "cnn.add(tf.keras.layers.MaxPool2D(pool_size = 2, strides = 2))"
   ]
  },
  {
   "cell_type": "code",
   "execution_count": 9,
   "metadata": {},
   "outputs": [],
   "source": [
    "# Flattening\n",
    "cnn.add(tf.keras.layers.Flatten()) #pooling into one dimention"
   ]
  },
  {
   "cell_type": "code",
   "execution_count": 10,
   "metadata": {},
   "outputs": [],
   "source": [
    "# full Connection\n",
    "cnn.add(tf.keras.layers.Dense(units = 128, activation = 'relu'))"
   ]
  },
  {
   "cell_type": "code",
   "execution_count": 11,
   "metadata": {},
   "outputs": [],
   "source": [
    "# output Layer\n",
    "cnn.add(tf.keras.layers.Dense(units = 1 , activation = 'sigmoid'))"
   ]
  },
  {
   "cell_type": "code",
   "execution_count": 12,
   "metadata": {},
   "outputs": [],
   "source": [
    "# Training the CNN\n",
    "cnn.compile(optimizer = 'adam', loss = 'binary_crossentropy', metrics = ['accuracy'])"
   ]
  },
  {
   "cell_type": "code",
   "execution_count": 13,
   "metadata": {},
   "outputs": [
    {
     "name": "stdout",
     "output_type": "stream",
     "text": [
      "WARNING:tensorflow:From C:\\Users\\Hari Krishna S\\anaconda3\\lib\\site-packages\\tensorflow\\python\\ops\\math_ops.py:3066: to_int32 (from tensorflow.python.ops.math_ops) is deprecated and will be removed in a future version.\n",
      "Instructions for updating:\n",
      "Use tf.cast instead.\n",
      "Epoch 1/25\n",
      "63/63 [==============================] - 44s 691ms/step - loss: 0.6518 - acc: 0.5845\n",
      "250/250 [==============================] - 320s 1s/step - loss: 0.6867 - acc: 0.5484 - val_loss: 0.6518 - val_acc: 0.5845\n",
      "Epoch 2/25\n",
      "63/63 [==============================] - 14s 217ms/step - loss: 0.5961 - acc: 0.6780\n",
      "250/250 [==============================] - 97s 388ms/step - loss: 0.6243 - acc: 0.6547 - val_loss: 0.5961 - val_acc: 0.6780\n",
      "Epoch 3/25\n",
      "63/63 [==============================] - 14s 217ms/step - loss: 0.5393 - acc: 0.7375\n",
      "250/250 [==============================] - 97s 389ms/step - loss: 0.5714 - acc: 0.7070 - val_loss: 0.5393 - val_acc: 0.7375\n",
      "Epoch 4/25\n",
      "63/63 [==============================] - 14s 223ms/step - loss: 0.5108 - acc: 0.7550\n",
      "250/250 [==============================] - 97s 390ms/step - loss: 0.5432 - acc: 0.7228 - val_loss: 0.5108 - val_acc: 0.7550\n",
      "Epoch 5/25\n",
      "63/63 [==============================] - 14s 221ms/step - loss: 0.4939 - acc: 0.7740\n",
      "250/250 [==============================] - 98s 392ms/step - loss: 0.5165 - acc: 0.7405 - val_loss: 0.4939 - val_acc: 0.7740\n",
      "Epoch 6/25\n",
      "63/63 [==============================] - 14s 220ms/step - loss: 0.5454 - acc: 0.7310\n",
      "250/250 [==============================] - 98s 392ms/step - loss: 0.4937 - acc: 0.7635 - val_loss: 0.5454 - val_acc: 0.7310\n",
      "Epoch 7/25\n",
      "63/63 [==============================] - 13s 210ms/step - loss: 0.5027 - acc: 0.7615\n",
      "250/250 [==============================] - 97s 389ms/step - loss: 0.4754 - acc: 0.7721 - val_loss: 0.5027 - val_acc: 0.7615\n",
      "Epoch 8/25\n",
      "63/63 [==============================] - 8s 133ms/step - loss: 0.5181 - acc: 0.7475\n",
      "250/250 [==============================] - 88s 354ms/step - loss: 0.4668 - acc: 0.7784 - val_loss: 0.5181 - val_acc: 0.7475\n",
      "Epoch 9/25\n",
      "63/63 [==============================] - 13s 207ms/step - loss: 0.4886 - acc: 0.7815\n",
      "250/250 [==============================] - 99s 395ms/step - loss: 0.4552 - acc: 0.7797 - val_loss: 0.4886 - val_acc: 0.7815\n",
      "Epoch 10/25\n",
      "63/63 [==============================] - 14s 215ms/step - loss: 0.4877 - acc: 0.7665\n",
      "250/250 [==============================] - 102s 408ms/step - loss: 0.4478 - acc: 0.7845 - val_loss: 0.4877 - val_acc: 0.7665\n",
      "Epoch 11/25\n",
      "63/63 [==============================] - 14s 224ms/step - loss: 0.4844 - acc: 0.7810\n",
      "250/250 [==============================] - 102s 407ms/step - loss: 0.4274 - acc: 0.8000 - val_loss: 0.4844 - val_acc: 0.7810\n",
      "Epoch 12/25\n",
      "63/63 [==============================] - 14s 219ms/step - loss: 0.4605 - acc: 0.7930\n",
      "250/250 [==============================] - 102s 406ms/step - loss: 0.4134 - acc: 0.8062 - val_loss: 0.4605 - val_acc: 0.7930\n",
      "Epoch 13/25\n",
      "63/63 [==============================] - 14s 225ms/step - loss: 0.4735 - acc: 0.7910\n",
      "250/250 [==============================] - 101s 403ms/step - loss: 0.4023 - acc: 0.8181 - val_loss: 0.4735 - val_acc: 0.7910\n",
      "Epoch 14/25\n",
      "63/63 [==============================] - 14s 219ms/step - loss: 0.4681 - acc: 0.7905\n",
      "250/250 [==============================] - 101s 403ms/step - loss: 0.3949 - acc: 0.8173 - val_loss: 0.4681 - val_acc: 0.7905\n",
      "Epoch 15/25\n",
      "63/63 [==============================] - 14s 218ms/step - loss: 0.4562 - acc: 0.8015\n",
      "250/250 [==============================] - 100s 400ms/step - loss: 0.3818 - acc: 0.8279 - val_loss: 0.4562 - val_acc: 0.8015\n",
      "Epoch 16/25\n",
      "63/63 [==============================] - 14s 220ms/step - loss: 0.4693 - acc: 0.7940\n",
      "250/250 [==============================] - 99s 397ms/step - loss: 0.3716 - acc: 0.8350 - val_loss: 0.4693 - val_acc: 0.7940\n",
      "Epoch 17/25\n",
      "63/63 [==============================] - 15s 243ms/step - loss: 0.4722 - acc: 0.7935\n",
      "250/250 [==============================] - 103s 411ms/step - loss: 0.3603 - acc: 0.8374 - val_loss: 0.4722 - val_acc: 0.7935\n",
      "Epoch 18/25\n",
      "63/63 [==============================] - 14s 222ms/step - loss: 0.4766 - acc: 0.8030\n",
      "250/250 [==============================] - 99s 396ms/step - loss: 0.3525 - acc: 0.8416 - val_loss: 0.4766 - val_acc: 0.8030\n",
      "Epoch 19/25\n",
      "63/63 [==============================] - 14s 223ms/step - loss: 0.4979 - acc: 0.7830\n",
      "250/250 [==============================] - 101s 405ms/step - loss: 0.3343 - acc: 0.8491 - val_loss: 0.4979 - val_acc: 0.7830\n",
      "Epoch 20/25\n",
      "63/63 [==============================] - 15s 233ms/step - loss: 0.5016 - acc: 0.7880\n",
      "250/250 [==============================] - 97s 390ms/step - loss: 0.3299 - acc: 0.8522 - val_loss: 0.5016 - val_acc: 0.7880\n",
      "Epoch 21/25\n",
      "63/63 [==============================] - 14s 225ms/step - loss: 0.5283 - acc: 0.7685\n",
      "250/250 [==============================] - 98s 392ms/step - loss: 0.3102 - acc: 0.8649 - val_loss: 0.5283 - val_acc: 0.7685\n",
      "Epoch 22/25\n",
      "63/63 [==============================] - 14s 215ms/step - loss: 0.5416 - acc: 0.7810\n",
      "250/250 [==============================] - 99s 397ms/step - loss: 0.2976 - acc: 0.8744 - val_loss: 0.5416 - val_acc: 0.7810\n",
      "Epoch 23/25\n",
      "63/63 [==============================] - 14s 221ms/step - loss: 0.5135 - acc: 0.7880\n",
      "250/250 [==============================] - 97s 389ms/step - loss: 0.2836 - acc: 0.8756 - val_loss: 0.5135 - val_acc: 0.7880\n",
      "Epoch 24/25\n",
      "63/63 [==============================] - 15s 232ms/step - loss: 0.5175 - acc: 0.7985\n",
      "250/250 [==============================] - 101s 403ms/step - loss: 0.2741 - acc: 0.8839 - val_loss: 0.5175 - val_acc: 0.7985\n",
      "Epoch 25/25\n",
      "63/63 [==============================] - 14s 217ms/step - loss: 0.5453 - acc: 0.7870\n",
      "250/250 [==============================] - 98s 394ms/step - loss: 0.2645 - acc: 0.8863 - val_loss: 0.5453 - val_acc: 0.7870\n"
     ]
    },
    {
     "data": {
      "text/plain": [
       "<tensorflow.python.keras.callbacks.History at 0x20491ff4f88>"
      ]
     },
     "execution_count": 13,
     "metadata": {},
     "output_type": "execute_result"
    }
   ],
   "source": [
    "cnn.fit(x = training_set, validation_data = test_set, epochs = 25)"
   ]
  },
  {
   "cell_type": "code",
   "execution_count": 14,
   "metadata": {},
   "outputs": [],
   "source": [
    "# single prediction\n",
    "import numpy as np\n",
    "from keras.preprocessing import image\n",
    "test_image = image.load_img('data/single_prediction/cat_or_dog_2.jpg',target_size= (64,64))\n",
    "test_image = image.img_to_array(test_image)\n",
    "test_image = np.expand_dims(test_image, axis = 0)\n",
    "result = cnn.predict(test_image)\n",
    "training_set.class_indices # it help to get the indication of dog and cat of 1 and 0\n",
    "if result[0][0] == 1:\n",
    "    prediction = 'dog'\n",
    "else:\n",
    "    prediction = 'cat'"
   ]
  },
  {
   "cell_type": "code",
   "execution_count": 15,
   "metadata": {},
   "outputs": [
    {
     "name": "stdout",
     "output_type": "stream",
     "text": [
      "cat\n"
     ]
    }
   ],
   "source": [
    "print(prediction)"
   ]
  }
 ],
 "metadata": {
  "kernelspec": {
   "display_name": "Python 3",
   "language": "python",
   "name": "python3"
  },
  "language_info": {
   "codemirror_mode": {
    "name": "ipython",
    "version": 3
   },
   "file_extension": ".py",
   "mimetype": "text/x-python",
   "name": "python",
   "nbconvert_exporter": "python",
   "pygments_lexer": "ipython3",
   "version": "3.7.7"
  }
 },
 "nbformat": 4,
 "nbformat_minor": 4
}
